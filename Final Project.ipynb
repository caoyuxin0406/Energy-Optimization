{
 "cells": [
  {
   "cell_type": "markdown",
   "id": "e5ee5b23",
   "metadata": {},
   "source": [
    "## 2. Mathematical model ##\n",
    "\n",
    " To better understand the impact that the switch to renewables will have upon the United States economy, we will be assesing the impact of this change upon three seperate energy sectors: electrcity, transportation and heating. For each of these sectors, we will use historical data about US energy usage to forecast projected usage via a least squares regression. We will then examine how each sector will be impacted by the switch to renewable energy that the Biden administration has pledged to. \n",
    "\n",
    "To assess the feasibility of moving away from fossil fuels, we will be constructing a set of models for three major energy sectors: electricity generation, transportation, and heating. For each of these subproblems, we will create a linear model that serve to help in our feasibility assesment. The decision variables in all of our models are the various resources that are utilized to produce energy. We will specficially be focusing on the impact of solar, wind, hydrothermal, geothermal, nuclear, coal, oil, and natural gas on energy production. The amount of energy produced by each of these sources will serve as the decision variables in our mathematical models. One constraint on this model is that the total energy produced must meet the demand for the corresponding sector. Another constraint on this model is that the total carbon-dioxide emissions of all the energy source be within the targets set by the Biden administration. The objective model for this is to minimize the cost of energy usage. This serves to ensure energy prices are not raised as the transition to renewables occurs.\n",
    "\n",
    "\n",
    "To accurately juddge the maximal amount of carbon-dioxide that is allowable, we will be using the US guidelines that states that carbon-dioxide emissions should decrease by 25% by 2025, 30% by 2030 and 100% by 2050 relative to the emissions in 2005. To account for the specfic emissions given by a given sector, we plan to scale the total carbon dioxide emission by the percentage contributed by a given sector. The total carbon dioxide emissions in 2005 was given by 19.42 metric tons. Mathematically, the general form of the LPs we will be constructed are provided below.\n",
    "\n",
    "\n",
    "\n",
    "\n",
    "$$\n",
    "\\begin{aligned}\n",
    "\\underset{c,s,w,ng,o,n,hy,geo \\in \\mathbb{R^n}}{\\text{minimize}}\\qquad& EnergyCost(c,s,w,ng,o,n,hy,geo) \\\\\n",
    "\\text{subject to:}\\qquad& f_i(c,s,w,ng,o,n,hy,geo) == \\text{Sector_Usage}\\\\\n",
    "& CarbonCost(c,s,w,ng,o,n,hy,geo) <= 19.42 * (Sector Contribution) \n",
    "\\end{aligned}\n",
    "$$\n",
    "\n",
    "\n",
    "In addition to this basic version of the LP, it is important to realize that there is not an infinite amount of energy that can be created using renewables. Thus, we must include limits on the maximum amount of energy that can be generated using renewables. We also must constrain the degree to which we rely upon fossil fuels, as overtime the US government's plan seeks to reduce dependency. With these considerations, our final model becomes\n",
    "\n",
    "\n",
    "$$\n",
    "\\begin{aligned}\n",
    "\\underset{c,s,w,ng,o,n,hy,geo \\in \\mathbb{R^n}}{\\text{minimize}}\\qquad& EnergyCost(c,s,w,ng,o,n,hy,geo) \\\\\n",
    "\\text{subject to:}\\qquad& f_i(c,s,w,ng,o,n,hy,geo) == \\text{Sector_Usage}\\\\\n",
    "& CarbonCost(c,s,w,ng,o,n,hy,geo) <=  Carbon-Cost*(Sector Contribution) \\\\\n",
    "& h < \\text{HYDROELECTRIC CAPACITY}\\\\\n",
    "& s < \\text{Solar capacity}\\\\\n",
    "& w < \\text{wind capacity} \\\\ \n",
    "& g < \\text{geothermal capacity} \\\\\n",
    "& c+ng+o < \\text{reliance ratio * Electricity}\n",
    "\\end{aligned}\n",
    "$$"
   ]
  },
  {
   "cell_type": "markdown",
   "id": "ce9c0935",
   "metadata": {},
   "source": [
    "## 3.1: Electricity ##\n",
    "\n",
    "We first chose to examine the effect of transitioning away from fossil fuels on the electricity sector. To run the model described above, we first needed to determine future projections of annual electricity consumption in America. To do this, we used publicily avaliable information from the US Energy Information Agency to find the annual electricity usage from 2000 to 2011. This data is shown below as Figure 1. With this data, a least sqaures model was then constructed that allowed us to predict the future electricity consumption assuming it fit with historical patterns. \n",
    "\n",
    "\n",
    "\n",
    "\n",
    "| Year          | Electricity Consumption (billions kwHr)  |\n",
    "|:------------- |:-------------:| \n",
    "| 2000          |    3802.1     |\n",
    "| 2001          |    3736.6     |\n",
    "| 2002          |    3858.5     |\n",
    "| 2003          |    3883.2     |\n",
    "| 2004          |    3970.6     |\n",
    "| 2005          |    4055.4     |\n",
    "| 2006          |    4064.7     |\n",
    "| 2007          |    4156.7     |\n",
    "| 2008          |    4119.4     |\n",
    "| 2009          |    3950.3     |\n",
    "| 2010          |    4125.1     |\n",
    "| 2011          |    4105.7     |"
   ]
  },
  {
   "cell_type": "code",
   "execution_count": 167,
   "id": "5f86dafc",
   "metadata": {},
   "outputs": [
    {
     "name": "stderr",
     "output_type": "stream",
     "text": [
      "\u001b[32m\u001b[1m   Resolving\u001b[22m\u001b[39m package versions...\n",
      "\u001b[32m\u001b[1m  No Changes\u001b[22m\u001b[39m to `~/.julia/environments/v1.7/Project.toml`\n",
      "\u001b[32m\u001b[1m  No Changes\u001b[22m\u001b[39m to `~/.julia/environments/v1.7/Manifest.toml`\n"
     ]
    }
   ],
   "source": [
    "using Pkg\n",
    "Pkg.add(\"Gurobi\")\n",
    "\n",
    "\n"
   ]
  },
  {
   "cell_type": "code",
   "execution_count": 108,
   "id": "c6b9ed2a",
   "metadata": {},
   "outputs": [],
   "source": [
    "x = [2000,2001,2002,2003,2004,2005,2006,2007,2008,2009,2010,2011]; # years interested in\n",
    "y = [3802.1,3736.6,3858.5,3883.2,3970.6,4055.4,4064.7,4156.7,4119.4,3950.3,4125.1,4105.7]; # energy values from table"
   ]
  },
  {
   "cell_type": "code",
   "execution_count": 109,
   "id": "5b208a16",
   "metadata": {},
   "outputs": [],
   "source": [
    "# Order of polynomial used for fitting\n",
    "k = 1\n",
    "\n",
    "# Create the A matrix (where each row corresponds to one observation x_i and each column is an x^k term)\n",
    "n = length(x)\n",
    "A = zeros(n,k+1)\n",
    "for i = 1:n\n",
    "    for j = 1:k+1\n",
    "        A[i,j] = float(x[i]^(k+1-j))\n",
    "    end\n",
    "end\n"
   ]
  },
  {
   "cell_type": "code",
   "execution_count": 111,
   "id": "818f4a64",
   "metadata": {},
   "outputs": [
    {
     "name": "stdout",
     "output_type": "stream",
     "text": [
      "Set parameter Username\n",
      "Academic license - for non-commercial use only - expires 2023-03-05\n",
      "Set parameter NumericFocus to value 2\n",
      "Set parameter NonConvex to value 2\n",
      "Set parameter NumericFocus to value 2\n",
      "Set parameter NonConvex to value 2\n",
      "Gurobi Optimizer version 9.5.1 build v9.5.1rc2 (mac64[x86])\n",
      "Thread count: 2 physical cores, 4 logical processors, using up to 4 threads\n",
      "Optimize a model with 0 rows, 2 columns and 0 nonzeros\n",
      "Model fingerprint: 0xcedda476\n",
      "Model has 3 quadratic objective terms\n",
      "Coefficient statistics:\n",
      "  Matrix range     [0e+00, 0e+00]\n",
      "  Objective range  [1e+05, 2e+08]\n",
      "  QObjective range [2e+01, 1e+08]\n",
      "  Bounds range     [0e+00, 0e+00]\n",
      "  RHS range        [0e+00, 0e+00]\n",
      "Presolve time: 0.00s\n",
      "Presolved: 0 rows, 2 columns, 0 nonzeros\n",
      "Presolved model has 3 quadratic objective terms\n",
      "Ordering time: 0.00s\n",
      "\n",
      "Barrier statistics:\n",
      " Free vars  : 3\n",
      " AA' NZ     : 0.000e+00\n",
      " Factor NZ  : 1.000e+00\n",
      " Factor Ops : 1.000e+00 (less than 1 second per iteration)\n",
      " Threads    : 1\n",
      "\n",
      "                  Objective                Residual\n",
      "Iter       Primal          Dual         Primal    Dual     Compl     Time\n",
      "   0   1.90844832e+08  1.90844832e+08  0.00e+00 1.92e+08  0.00e+00     0s\n",
      "   1   1.94071549e+06  3.60056738e+07  1.10e-09 1.90e+07  0.00e+00     0s\n",
      "   2   8.55243115e+04  3.79590672e+06  2.44e-09 1.88e+06  0.00e+00     0s\n",
      "   3   6.73044342e+04  4.38288812e+05  3.81e-10 1.87e+05  0.00e+00     0s\n",
      "   4   6.71254340e+04  1.03922256e+05  1.52e-11 1.85e+04  0.00e+00     0s\n",
      "   5   6.71236741e+04  7.07705561e+04  1.39e-12 1.83e+03  0.00e+00     0s\n",
      "   6   6.71236566e+04  6.74850657e+04  1.60e-13 1.82e+02  0.00e+00     0s\n",
      "   7   6.71236564e+04  6.71594721e+04  7.77e-15 1.80e+01  0.00e+00     0s\n",
      "   8   6.71236564e+04  6.71272057e+04  2.22e-16 1.78e+00  0.00e+00     0s\n",
      "\n",
      "Barrier solved model in 8 iterations and 0.00 seconds (0.00 work units)\n",
      "Optimal objective 6.71236564e+04\n",
      "\n",
      "\n",
      "User-callback calls 50, time in user-callback 0.00 sec\n",
      "[32.263286415071256, -60718.32927583475]"
     ]
    }
   ],
   "source": [
    "using JuMP, Gurobi\n",
    "m = Model(with_optimizer(Gurobi.Optimizer, NumericFocus = 2,NonConvex=2))\n",
    "@variable(m, u[1:k+1]);\n",
    "@objective(m, Min, sum((y-A*u).^2) );\n",
    "optimize!(m)\n",
    "\n",
    "\n",
    "u = value.(u);\n",
    "print(u)\n",
    "\n"
   ]
  },
  {
   "cell_type": "code",
   "execution_count": 8,
   "id": "dbce8f37",
   "metadata": {},
   "outputs": [
    {
     "name": "stdout",
     "output_type": "stream",
     "text": [
      "Electricity Usage in 2025: 4614.825714684543\n",
      "Electricity Usage in 2030: 4614.825714684543\n",
      "Electricity Usage in 2050: 5421.407875061326\n"
     ]
    }
   ],
   "source": [
    "# Use the above input to calculate electricity requirements for 2025 and 2050\n",
    "energy_2025 = 32.263286415071256 * 2025 - 60718.32927583475;\n",
    "energy_2030 = 32.263286415071256 * 2025 - 60718.32927583475;\n",
    "energy_2050 = 32.263286415071256 * 2050 - 60718.32927583475;\n",
    "\n",
    "print(\"Electricity Usage in 2025: \"); println(energy_2025);\n",
    "print(\"Electricity Usage in 2030: \");println(energy_2030);\n",
    "print(\"Electricity Usage in 2050: \");println(energy_2050);\n"
   ]
  },
  {
   "cell_type": "markdown",
   "id": "affe98ed",
   "metadata": {},
   "source": [
    "To construct the remainder of this model, we must considering the carbon dioxide emission of using each type of fuel source. The collective sum of the carbon cost must be less than the sector would produce. To calculate the amount of total emissions that the US would produce in a given year, another least-squares model was constructed similar to the one above. Initial construction of the model below shows an unbounded solution so a di"
   ]
  },
  {
   "cell_type": "code",
   "execution_count": 62,
   "id": "2c2a4d9c",
   "metadata": {},
   "outputs": [],
   "source": [
    "x1 = [2000,2001,2002,2003,2004,2005,2006,2007,2008,2009] # years we care about\n",
    "y1 = [5889,5778,5820,5886,5994,6007,5929,6016,5823,5404]; # millions of metric tons of carbon dioxide that are produced;\n",
    "\n"
   ]
  },
  {
   "cell_type": "code",
   "execution_count": 63,
   "id": "2a35df05",
   "metadata": {},
   "outputs": [],
   "source": [
    "k = 4 # looking at a linear regression\n",
    "\n",
    "# creating the matrix of observations that we will use to construct the least squares parameters\n",
    "n = length(x1)\n",
    "A = zeros(n,k+1)\n",
    "for i = 1:n\n",
    "    for j = 1:k+1\n",
    "        A[i,j] = float(x1[i]^(k+1-j))\n",
    "    end\n",
    "end\n",
    "\n",
    "\n"
   ]
  },
  {
   "cell_type": "code",
   "execution_count": 66,
   "id": "f89e6364",
   "metadata": {},
   "outputs": [
    {
     "name": "stdout",
     "output_type": "stream",
     "text": [
      "Set parameter Username\n",
      "Academic license - for non-commercial use only - expires 2023-03-05\n",
      "Set parameter BarHomogeneous to value 1\n",
      "Set parameter BarHomogeneous to value 1\n",
      "Gurobi Optimizer version 9.5.1 build v9.5.1rc2 (mac64[x86])\n",
      "Thread count: 2 physical cores, 4 logical processors, using up to 4 threads\n",
      "Optimize a model with 0 rows, 5 columns and 0 nonzeros\n",
      "Model fingerprint: 0x5b983c4d\n",
      "Model has 15 quadratic objective terms\n",
      "Coefficient statistics:\n",
      "  Matrix range     [0e+00, 0e+00]\n",
      "  Objective range  [1e+05, 2e+18]\n",
      "  QObjective range [2e+01, 5e+27]\n",
      "  Bounds range     [0e+00, 0e+00]\n",
      "  RHS range        [0e+00, 0e+00]\n",
      "Warning: Model contains large objective coefficients\n",
      "Warning: Model contains large quadratic objective coefficient range\n",
      "         Consider reformulating model or setting NumericFocus parameter\n",
      "         to avoid numerical issues.\n",
      "Presolve time: 0.00s\n",
      "Presolved: 0 rows, 5 columns, 0 nonzeros\n",
      "Presolved model has 15 quadratic objective terms\n",
      "Ordering time: 0.00s\n",
      "\n",
      "Barrier statistics:\n",
      " Free vars  : 7\n",
      " AA' NZ     : 1.000e+00\n",
      " Factor NZ  : 3.000e+00\n",
      " Factor Ops : 5.000e+00 (less than 1 second per iteration)\n",
      " Threads    : 1\n",
      "\n",
      "                  Objective                Residual\n",
      "Iter       Primal          Dual         Primal    Dual     Compl     Time\n",
      "   0   3.43050928e+08  3.43050928e+08  0.00e+00 1.89e+18  0.00e+00     0s\n",
      "   1   3.43050928e+08  3.43050928e+08  1.40e-57 1.89e+18  1.00e+03     0s\n",
      "   2*  5.01687052e+15 -4.82253162e+11  6.41e+04 3.25e+12  1.00e-06     0s\n",
      "   3*  2.55502073e+22 -4.80605420e+11  3.17e+02 3.24e+09  1.00e-09     0s\n",
      "   4*  7.09943558e+15 -9.38098065e+11  1.36e+00 3.56e+03  2.35e-08     0s\n",
      "   5*  6.15332249e+16 -9.38091850e+11  8.31e-01 2.56e+01  2.40e-11     0s\n",
      "   6*  1.04382515e+13 -9.38098966e+11  1.36e-03 3.83e+00  1.64e-10     0s\n",
      "   7*  5.99495491e+16 -9.38098966e+11  2.19e-03 3.83e-03  1.66e-13     0s\n",
      "   8* -2.22099653e+15 -9.38098966e+11  3.61e-06 1.01e-02  1.18e-12     0s\n",
      "   9* -2.24415929e+18 -9.38098966e+11  5.80e-06 1.01e-05  1.20e-15     0s\n",
      "  10* -2.00670128e+18 -9.38098966e+11  9.55e-09 2.67e-05  8.52e-15     0s\n",
      "\n",
      "Barrier performed 10 iterations in 0.00 seconds (0.00 work units)\n",
      "Unbounded model\n",
      "\n",
      "\n",
      "User-callback calls 58, time in user-callback 0.00 sec\n"
     ]
    }
   ],
   "source": [
    "# This model is unbounded, so I chose to use something else. Need to ask in OH if that is ok.\n",
    "using JuMP, Gurobi\n",
    "m1 = Model(with_optimizer(Gurobi.Optimizer,BarHomogeneous=1))\n",
    "@variable(m1, u1[1:k+1]); # Have 2 variables (ax+b) for fitting our data\n",
    "\n",
    "@objective(m1, Min, sum((y1-A*u1).^2) ); # compute least squares\n",
    "\n",
    "optimize!(m1)\n"
   ]
  },
  {
   "attachments": {
    "Carbon-2.png": {
     "image/png": "[encoded data removed]"
    }
   },
   "cell_type": "markdown",
   "id": "534dc8de",
   "metadata": {},
   "source": [
    "Because the Julia LSR did not converge, I instead used excel to derive an equation that would relate the amount of carbon dioxide emissions to the year of interest. The attached plot is shown below.\n",
    "\n",
    "![Carbon-2.png](attachment:Carbon-2.png)\n",
    "\n",
    "We can see that the equation for carbon dioxide emissions is given by \n",
    "\n",
    "\\begin{equation} CarbonEmission(year) =  5.99 * 10^{70} * year^{-20} \\end{equation}\n",
    "\n",
    "Using the data, we can now calculate the emissions that are projected in the years 2025, 2030, and 2050.\n"
   ]
  },
  {
   "cell_type": "code",
   "execution_count": 112,
   "id": "53d39ad7",
   "metadata": {},
   "outputs": [],
   "source": [
    "carbon_2025 = 44558.05973; # millions of metric tons of CO2\n",
    "carbon_2030 = 42413.69062; # millions of metric tons of CO2\n",
    "carbon_2050 = 34861.78348; # millions of metric tons of CO2"
   ]
  },
  {
   "cell_type": "markdown",
   "id": "1774fbb2",
   "metadata": {},
   "source": [
    "We now must find the contriution that each electricity source has to carbon-dioxide emissions, and must find the unit price for producing 1kWHr of electricity using the specified fuel source. The compilied data for both is shown below\n",
    "\n",
    "\n",
    "\n",
    "\n",
    "\n",
    "| Fuel Source          | Electricity Price (cents per kwHr)  |\n",
    "|:------------- |:-------------:| \n",
    "| Coal        |    9.5   |\n",
    "| Natural Gas          |    7.0   |\n",
    "| Wind    |    9.7    |\n",
    "| Hydroelectric          |    8.6   |\n",
    "| Solar          |    7.0    |\n",
    "| Nuclear          |    27.5    |\n",
    "| Geothermal          |   5.0    |\n",
    "| Oil          |    10.0     |\n",
    "\n",
    "\n",
    "\n",
    "\n",
    "\n",
    "| Fuel Source          | Carbon Cost (g Carbon-Dioxide per kwHr Electricity Produced)  |\n",
    "|:------------- |:-------------:| \n",
    "| Coal        |    820   |\n",
    "| Natural Gas          |   490   |\n",
    "| Wind    |   11.5   |\n",
    "| Hydroelectric          |    24   |\n",
    "| Solar          |    50    |\n",
    "| Nuclear          |    12   |\n",
    "| Geothermal          |   38    |\n",
    "| Oil          |   970    |\n",
    "\n",
    "\n",
    "With this data, we can now construct a model using the specifications given in Section 2. This first model focuses on the targets for the year 2025.\n"
   ]
  },
  {
   "cell_type": "code",
   "execution_count": 156,
   "id": "a1180fd9",
   "metadata": {},
   "outputs": [
    {
     "data": {
      "text/latex": [
       "$$ \\begin{aligned}\n",
       "\\min\\quad & 95000000 c + 70000000 ng + 97000000 w + 86000000 h + 70000000 s + 275000000 n + 50000000 g + 100000000 o\\\\\n",
       "\\text{Subject to} \\quad & c + ng + w + h + s + n + g + o = 4614.825714684543\\\\\n",
       " & g \\leq 0.000115\\\\\n",
       " & w \\leq 0.11800000000000001\\\\\n",
       " & h \\leq 0.08\\\\\n",
       " & s \\leq 0.115\\\\\n",
       " & c + ng + o \\leq 2768.8954288107257\\\\\n",
       " & 820 c + 490 ng + 11.5 w + 24 h + 50 s + 12 n + 38 g + 970 o \\leq 1.0603422655e10\\\\\n",
       " & c \\geq 0.0\\\\\n",
       " & ng \\geq 0.0\\\\\n",
       " & w \\geq 0.0\\\\\n",
       " & h \\geq 0.0\\\\\n",
       " & s \\geq 0.0\\\\\n",
       " & n \\geq 0.0\\\\\n",
       " & g \\geq 0.0\\\\\n",
       " & o \\geq 0.0\\\\\n",
       "\\end{aligned} $$"
      ]
     },
     "metadata": {},
     "output_type": "display_data"
    },
    {
     "name": "stdout",
     "output_type": "stream",
     "text": [
      "Set parameter Username\n",
      "Academic license - for non-commercial use only - expires 2023-03-05\n",
      "Gurobi Optimizer version 9.5.1 build v9.5.1rc2 (mac64[x86])\n",
      "Thread count: 2 physical cores, 4 logical processors, using up to 4 threads\n",
      "Optimize a model with 7 rows, 8 columns and 23 nonzeros\n",
      "Model fingerprint: 0x1868c462\n",
      "Coefficient statistics:\n",
      "  Matrix range     [1e+00, 1e+03]\n",
      "  Objective range  [5e+07, 3e+08]\n",
      "  Bounds range     [0e+00, 0e+00]\n",
      "  RHS range        [1e-04, 1e+10]\n",
      "Warning: Model contains large rhs\n",
      "         Consider reformulating model or setting NumericFocus parameter\n",
      "         to avoid numerical issues.\n",
      "Presolve removed 7 rows and 8 columns\n",
      "Presolve time: 0.00s\n",
      "Presolve: All rows and columns removed\n",
      "Iteration    Objective       Primal Inf.    Dual Inf.      Time\n",
      "       0    7.0139378e+11   0.000000e+00   0.000000e+00      0s\n",
      "\n",
      "Solved in 0 iterations and 0.00 seconds (0.00 work units)\n",
      "Optimal objective  7.013937838e+11\n",
      "\n",
      "User-callback calls 45, time in user-callback 0.00 sec\n",
      "Amount of energy from coal is: 0.0 billions of kWhr\n",
      "Amount of energy from natural gas is: 2768.8954288107257 billions of kWhr\n",
      "Amount of energy from wind is: 0.11800000000000001 billions of kWhr\n",
      "Amount of energy from hydroelectric is: 0.08 billions of kWhr\n",
      "Amount of energy from solar is: 0.115 billions of kWhr\n",
      "Amount of energy from nuclear is: 1845.617170873817 billions of kWhr\n",
      "Amount of energy from geothermal is: 0.000115 billions of kWhr\n",
      "Amount of energy from oil/petroleum is: 0.0 billions of kWhr\n"
     ]
    }
   ],
   "source": [
    "using JuMP, Gurobi\n",
    "\n",
    "m5 = Model(with_optimizer(Gurobi.Optimizer));\n",
    "\n",
    "# defines the correct variables.\n",
    "@variable(m5, c>=0); # Energy derived from coal in billions of kWhr \n",
    "@variable(m5, ng>=0); # Energy derived from natural gas in billions of kWhr \n",
    "@variable(m5, w>=0); # Energy derived from wind in billions of kWhr \n",
    "@variable(m5, h>=0); # Energy derived from hydroelectric in billions of kWhr \n",
    "@variable(m5, s>=0); # Energy derived from solar energy in billions of kWhr \n",
    "@variable(m5, n>=0); # Energy derived from nuclear in billions of kWhr \n",
    "@variable(m5, g>=0); # Energy derived from geothermal in billions of kWhr \n",
    "@variable(m5, o>=0); # Energy derived from oil in billions of kWhr \n",
    "\n",
    "@constraint(m5, g<=115*10^3/10^9) # Geothermal Energy Capacity\n",
    "@constraint(m5, w<=118*10^6/10^9); # Wind Energy Capacity\n",
    "@constraint(m5, h<= 80*10^6/10^9); # Hydrothermal Energy Capacity\n",
    "@constraint(m5, s<= 115*1000000/10^9); # Solar Energy Capacity\n",
    "@constraint(m5, ng+c+o <= 0.60 *4614.825714684543) # Maximal Fossil Fuel Contribution\n",
    "@constraint(m5, c + ng + w + h + s + n + g + o == 4614.825714684543) # Electricity constraint must be met\n",
    "@constraint(m5, (820*c + 490*ng + 11.5*w + 24*h + 50*s + 12*n + 38*g + 970*o ) <= 42413.69062*10^6*0.25); # Carbon Constraint\n",
    "@objective(m5,Min, (9.5*c + 7.0*ng + 9.7*w + 8.6*h + 7.0*s + 27.5*n + 5.0*g + 10.0 *o ) *10^7) # Objective in dollars\n",
    "print(m5)\n",
    "\n",
    "optimize!(m5)\n",
    "\n",
    "println(\"Amount of energy from coal is: \", value(c), \" billions of kWhr\")\n",
    "println(\"Amount of energy from natural gas is: \", value(ng), \" billions of kWhr\")\n",
    "println(\"Amount of energy from wind is: \",value(w), \" billions of kWhr\")\n",
    "println(\"Amount of energy from hydroelectric is: \",value(h), \" billions of kWhr\")\n",
    "println(\"Amount of energy from solar is: \",value(s), \" billions of kWhr\")\n",
    "println(\"Amount of energy from nuclear is: \",value(n), \" billions of kWhr\")\n",
    "println(\"Amount of energy from geothermal is: \",value(g), \" billions of kWhr\")\n",
    "println(\"Amount of energy from oil/petroleum is: \",value(o), \" billions of kWhr\")"
   ]
  },
  {
   "cell_type": "markdown",
   "id": "4d2ff4ac",
   "metadata": {},
   "source": [
    "Moving to the 2030 Projections, we can perform similar analysis with the updated electricity projections and carbon emissions"
   ]
  },
  {
   "cell_type": "code",
   "execution_count": 158,
   "id": "1d32d226",
   "metadata": {},
   "outputs": [
    {
     "data": {
      "text/latex": [
       "$$ \\begin{aligned}\n",
       "\\min\\quad & 95000000 c + 70000000 ng + 97000000 w + 86000000 h + 70000000 s + 275000000 n + 50000000 g + 100000000 o\\\\\n",
       "\\text{Subject to} \\quad & c + ng + w + h + s + n + g + o = 4614.825714684543\\\\\n",
       " & g \\leq 0.000115\\\\\n",
       " & w \\leq 0.11800000000000001\\\\\n",
       " & h \\leq 0.08\\\\\n",
       " & s \\leq 0.115\\\\\n",
       " & c + ng + o \\leq 1845.9302858738172\\\\\n",
       " & 820 c + 490 ng + 11.5 w + 24 h + 50 s + 12 n + 38 g + 970 o \\leq 1.0603422655e10\\\\\n",
       " & c \\geq 0.0\\\\\n",
       " & ng \\geq 0.0\\\\\n",
       " & w \\geq 0.0\\\\\n",
       " & h \\geq 0.0\\\\\n",
       " & s \\geq 0.0\\\\\n",
       " & n \\geq 0.0\\\\\n",
       " & g \\geq 0.0\\\\\n",
       " & o \\geq 0.0\\\\\n",
       "\\end{aligned} $$"
      ]
     },
     "metadata": {},
     "output_type": "display_data"
    },
    {
     "name": "stdout",
     "output_type": "stream",
     "text": [
      "Set parameter Username\n",
      "Academic license - for non-commercial use only - expires 2023-03-05\n",
      "Gurobi Optimizer version 9.5.1 build v9.5.1rc2 (mac64[x86])\n",
      "Thread count: 2 physical cores, 4 logical processors, using up to 4 threads\n",
      "Optimize a model with 7 rows, 8 columns and 23 nonzeros\n",
      "Model fingerprint: 0x43e42f2e\n",
      "Coefficient statistics:\n",
      "  Matrix range     [1e+00, 1e+03]\n",
      "  Objective range  [5e+07, 3e+08]\n",
      "  Bounds range     [0e+00, 0e+00]\n",
      "  RHS range        [1e-04, 1e+10]\n",
      "Warning: Model contains large rhs\n",
      "         Consider reformulating model or setting NumericFocus parameter\n",
      "         to avoid numerical issues.\n",
      "Presolve removed 7 rows and 8 columns\n",
      "Presolve time: 0.00s\n",
      "Presolve: All rows and columns removed\n",
      "Iteration    Objective       Primal Inf.    Dual Inf.      Time\n",
      "       0    8.9060164e+11   0.000000e+00   0.000000e+00      0s\n",
      "\n",
      "Solved in 0 iterations and 0.00 seconds (0.00 work units)\n",
      "Optimal objective  8.906016381e+11\n",
      "\n",
      "User-callback calls 45, time in user-callback 0.00 sec\n",
      "Amount of energy from coal is: 0.0 billions of kWhr\n",
      "Amount of energy from natural gas is: 1845.9302858738172 billions of kWhr\n",
      "Amount of energy from wind is: 0.11800000000000001 billions of kWhr\n",
      "Amount of energy from hydroelectric is: 0.08 billions of kWhr\n",
      "Amount of energy from solar is: 0.115 billions of kWhr\n",
      "Amount of energy from nuclear is: 2768.5823138107257 billions of kWhr\n",
      "Amount of energy from geothermal is: 0.000115 billions of kWhr\n",
      "Amount of energy from oil/petroleum is: 0.0 billions of kWhr\n"
     ]
    }
   ],
   "source": [
    "using JuMP, Gurobi\n",
    "\n",
    "m6 = Model(with_optimizer(Gurobi.Optimizer));\n",
    "\n",
    "# defines the correct variables.\n",
    "@variable(m6, c>=0); # Energy derived from coal in billions of kWhr \n",
    "@variable(m6, ng>=0); # Energy derived from natural gas in billions of kWhr \n",
    "@variable(m6, w>=0); # Energy derived from wind in billions of kWhr \n",
    "@variable(m6, h>=0); # Energy derived from hydroelectric in billions of kWhr \n",
    "@variable(m6, s>=0); # Energy derived from solar energy in billions of kWhr \n",
    "@variable(m6, n>=0); # Energy derived from nuclear in billions of kWhr \n",
    "@variable(m6, g>=0); # Energy derived from geothermal in billions of kWhr \n",
    "@variable(m6, o>=0); # Energy derived from oil in billions of kWhr \n",
    "\n",
    "@constraint(m6, g<=115*10^3/10^9) # Geothermal Energy Capacity\n",
    "@constraint(m6, w<=118*10^6/10^9); # Wind Energy Capacity\n",
    "@constraint(m6, h<= 80*10^6/10^9); # Hydrothermal Energy Capacity\n",
    "@constraint(m6, s<= 115*1000000/10^9); # Solar Energy Capacity\n",
    "@constraint(m6, ng+c+o <= 0.40 * energy_2030) # Maximal Fossil Fuel Contribution\n",
    "@constraint(m6, c + ng + w + h + s + n + g + o == energy_2030) # Electricity constraint must be met\n",
    "@constraint(m6, (820*c + 490*ng + 11.5*w + 24*h + 50*s + 12*n + 38*g + 970*o ) <= carbon_2030*10^6*0.25); # Carbon Constraint\n",
    "@objective(m6,Min, (9.5*c + 7.0*ng + 9.7*w + 8.6*h + 7.0*s + 27.5*n + 5.0*g + 10.0 *o ) *10^7) # Objective in dollars\n",
    "print(m6)\n",
    "\n",
    "optimize!(m6)\n",
    "\n",
    "println(\"Amount of energy from coal is: \", value(c), \" billions of kWhr\")\n",
    "println(\"Amount of energy from natural gas is: \", value(ng), \" billions of kWhr\")\n",
    "println(\"Amount of energy from wind is: \",value(w), \" billions of kWhr\")\n",
    "println(\"Amount of energy from hydroelectric is: \",value(h), \" billions of kWhr\")\n",
    "println(\"Amount of energy from solar is: \",value(s), \" billions of kWhr\")\n",
    "println(\"Amount of energy from nuclear is: \",value(n), \" billions of kWhr\")\n",
    "println(\"Amount of energy from geothermal is: \",value(g), \" billions of kWhr\")\n",
    "println(\"Amount of energy from oil/petroleum is: \",value(o), \" billions of kWhr\")"
   ]
  },
  {
   "cell_type": "markdown",
   "id": "c5220517",
   "metadata": {},
   "source": [
    "Finally, we look at the results of running this model with the projections from 2050."
   ]
  },
  {
   "cell_type": "code",
   "execution_count": 187,
   "id": "68ce6f32",
   "metadata": {},
   "outputs": [
    {
     "data": {
      "text/latex": [
       "$$ \\begin{aligned}\n",
       "\\min\\quad & 95000000 c + 70000000 ng + 97000000 w + 86000000 h + 70000000 s + 275000000 n + 50000000 g + 100000000 o\\\\\n",
       "\\text{Subject to} \\quad & c + ng + w + h + s + n + g + o = 5421.407875061326\\\\\n",
       " & g \\leq 0.000115\\\\\n",
       " & w \\leq 0.11800000000000001\\\\\n",
       " & h \\leq 0.08\\\\\n",
       " & s \\leq 0.115\\\\\n",
       " & c + ng + o \\leq 3252.844725036796\\\\\n",
       " & 820 c + 490 ng + 11.5 w + 24 h + 50 s + 12 n + 38 g + 970 o \\leq 8.71544587e9\\\\\n",
       " & c \\geq 0.0\\\\\n",
       " & ng \\geq 0.0\\\\\n",
       " & w \\geq 0.0\\\\\n",
       " & h \\geq 0.0\\\\\n",
       " & s \\geq 0.0\\\\\n",
       " & n \\geq 0.0\\\\\n",
       " & g \\geq 0.0\\\\\n",
       " & o \\geq 0.0\\\\\n",
       "\\end{aligned} $$"
      ]
     },
     "metadata": {},
     "output_type": "display_data"
    },
    {
     "name": "stdout",
     "output_type": "stream",
     "text": [
      "Set parameter Username\n",
      "Academic license - for non-commercial use only - expires 2023-03-05\n",
      "Gurobi Optimizer version 9.5.1 build v9.5.1rc2 (mac64[x86])\n",
      "Thread count: 2 physical cores, 4 logical processors, using up to 4 threads\n",
      "Optimize a model with 7 rows, 8 columns and 23 nonzeros\n",
      "Model fingerprint: 0xce5fb621\n",
      "Coefficient statistics:\n",
      "  Matrix range     [1e+00, 1e+03]\n",
      "  Objective range  [5e+07, 3e+08]\n",
      "  Bounds range     [0e+00, 0e+00]\n",
      "  RHS range        [1e-04, 9e+09]\n",
      "Warning: Model contains large rhs\n",
      "         Consider reformulating model or setting NumericFocus parameter\n",
      "         to avoid numerical issues.\n",
      "Presolve removed 7 rows and 8 columns\n",
      "Presolve time: 0.00s\n",
      "Presolve: All rows and columns removed\n",
      "Iteration    Objective       Primal Inf.    Dual Inf.      Time\n",
      "       0    8.2399427e+11   0.000000e+00   0.000000e+00      0s\n",
      "\n",
      "Solved in 0 iterations and 0.00 seconds (0.00 work units)\n",
      "Optimal objective  8.239942721e+11\n",
      "\n",
      "User-callback calls 45, time in user-callback 0.00 sec\n",
      "Amount of energy from coal is: 0.0 billions of kWhr\n",
      "Amount of energy from natural gas is: 3252.844725036796 billions of kWhr\n",
      "Amount of energy from wind is: 0.11800000000000001 billions of kWhr\n",
      "Amount of energy from hydroelectric is: 0.08 billions of kWhr\n",
      "Amount of energy from solar is: 0.115 billions of kWhr\n",
      "Amount of energy from nuclear is: 2168.250035024531 billions of kWhr\n",
      "Amount of energy from geothermal is: 0.000115 billions of kWhr\n",
      "Amount of energy from oil/petroleum is: 0.0 billions of kWhr\n"
     ]
    }
   ],
   "source": [
    "using JuMP, Gurobi\n",
    "\n",
    "m7 = Model(with_optimizer(Gurobi.Optimizer));\n",
    "\n",
    "# defines the correct variables.\n",
    "@variable(m7, c>=0); # Energy derived from coal in billions of kWhr \n",
    "@variable(m7, ng>=0); # Energy derived from natural gas in billions of kWhr \n",
    "@variable(m7, w>=0); # Energy derived from wind in billions of kWhr \n",
    "@variable(m7, h>=0); # Energy derived from hydroelectric in billions of kWhr \n",
    "@variable(m7, s>=0); # Energy derived from solar energy in billions of kWhr \n",
    "@variable(m7, n>=0); # Energy derived from nuclear in billions of kWhr \n",
    "@variable(m7, g>=0); # Energy derived from geothermal in billions of kWhr \n",
    "@variable(m7, o>=0); # Energy derived from oil in billions of kWhr \n",
    "\n",
    "@constraint(m7, g<=115*10^3/10^9) # Geothermal Energy Capacity\n",
    "@constraint(m7, w<=118*10^6/10^9); # Wind Energy Capacity\n",
    "@constraint(m7, h<= 80*10^6/10^9); # Hydrothermal Energy Capacity\n",
    "@constraint(m7, s<= 115*1000000/10^9); # Solar Energy Capacity\n",
    "@constraint(m7, ng+c+o <= 0.60 * energy_2050) # Maximal Fossil Fuel Contribution\n",
    "@constraint(m7, c + ng + w + h + s + n + g + o == energy_2050) # Electricity constraint must be met\n",
    "@constraint(m7, (820*c + 490*ng + 11.5*w + 24*h + 50*s + 12*n + 38*g + 970*o ) <= carbon_2050*10^6*0.25); # Carbon Constraint\n",
    "@objective(m7,Min, (9.5*c + 7.0*ng + 9.7*w + 8.6*h + 7.0*s + 27.5*n + 5.0*g + 10.0 *o ) *10^7) # Objective in dollars\n",
    "print(m7)\n",
    "\n",
    "optimize!(m7)\n",
    "\n",
    "println(\"Amount of energy from coal is: \", value(c), \" billions of kWhr\")\n",
    "println(\"Amount of energy from natural gas is: \", value(ng), \" billions of kWhr\")\n",
    "println(\"Amount of energy from wind is: \",value(w), \" billions of kWhr\")\n",
    "println(\"Amount of energy from hydroelectric is: \",value(h), \" billions of kWhr\")\n",
    "println(\"Amount of energy from solar is: \",value(s), \" billions of kWhr\")\n",
    "println(\"Amount of energy from nuclear is: \",value(n), \" billions of kWhr\")\n",
    "println(\"Amount of energy from geothermal is: \",value(g), \" billions of kWhr\")\n",
    "println(\"Amount of energy from oil/petroleum is: \",value(o), \" billions of kWhr\")"
   ]
  },
  {
   "cell_type": "code",
   "execution_count": 185,
   "id": "f4774d96",
   "metadata": {},
   "outputs": [
    {
     "data": {
      "image/png": "[encoded data removed]",
      "text/plain": [
       "Figure(PyObject <Figure size 640x480 with 1 Axes>)"
      ]
     },
     "metadata": {},
     "output_type": "display_data"
    },
    {
     "data": {
      "image/png": "[encoded data removed]",
      "text/plain": [
       "Figure(PyObject <Figure size 640x480 with 1 Axes>)"
      ]
     },
     "metadata": {},
     "output_type": "display_data"
    },
    {
     "name": "stderr",
     "output_type": "stream",
     "text": [
      "sys:1: UserWarning: Matplotlib is currently using agg, which is a non-GUI backend, so cannot show the figure.\n",
      "sys:1: UserWarning: Matplotlib is currently using agg, which is a non-GUI backend, so cannot show the figure.\n"
     ]
    }
   ],
   "source": [
    "using PyPlot\n",
    "\n",
    "amounts_2020 = [0.0, 1845.9302858738172, 0.11800000000000001, 0.08, 0.115, 2768.5823138107257,  0.000115, 0]\n",
    "amounts_2050 = [0, 2168.5631500245304, 0.11800000000000001, 0.08, 0.115, 3252.5316100367963, 0.000115, 0]\n",
    "\n",
    "\n",
    "energy = [\"coal\", \"natural gas\", \"wind\", \"hydro\",\"solar\",\"nuclear\",\"geothermal\",\"oil\"]\n",
    "\n",
    "\n",
    "\n",
    "fig = plt.figure()\n",
    "ax = fig.add_axes([0,0,1,1])\n",
    "ax.bar(energy,amounts_2050)\n",
    "plt.title(\"Energy Consumption in 2050\")\n",
    "fig.show()\n",
    "\n",
    "\n",
    "fig1 = plt.figure()\n",
    "ax1 = fig1.add_axes([0,0,1,1])\n",
    "ax1.bar(energy,amounts_2050)\n",
    "plt.title(\"Energy Consumption in 2020\")\n",
    "fig1.show()\n"
   ]
  },
  {
   "cell_type": "markdown",
   "id": "3797727f",
   "metadata": {},
   "source": [
    "### Results\n",
    "\n",
    "The overall results show that the meeting the required emission guidelines would require drastic shifts in the manner in which electricity is generated. Currently, 60.6% of all electricity is generated from fossil fuels, with the majority being produced via natural gas and coal. The results from both models show that to meet enviornmental emission goals, the majority of electrcitiy production would shift away from fossil fuels and move instead toward exclusively natural gas and nuclear energy. The shift from fossiel fuels moving towards natural gas has been occuring for many decades. Many coal-based power plants operzte in an extremely inefficient manner thus resulting in a drastic push away from their usage and towards that of natural gas. The usage of nuclear energy poses a variety of other risks. Although nuclear energy does not produce a high amount of Carbon-Dioxide, it does result in the production of highly radioactive waste whose long term-storage poses an extremely dangerous enviornmental risk. It can be seen that there is realtivel low levels of energy produced by wind, hydroelectric, and geothermal energy. This likely stems from a major problem that these renewables have: avaliability. Unlike fossil fuels, energy from these sources can only be extracted from specific locations and thus is accessible to small portions of the nation. To \n",
    "\n",
    "Despite the decrased amount emissions that are posed with these new projections, there is a substantial increase in the price felt to consumers. This can be seen as optimally meeting the emission requirements would result in an energy cost of 431 billion dollars. As we use less fossil fuels and instead use more nuclear energy, this price increases even more to being nearly 831 billion dollars. This represents a near doubling in the price of electricitiy and would have disasterous impacts on the United States economy.\n",
    "\n",
    "This model assumes that the relative capacities of electricity production for solar, wind, geothermal, and hydroelectric would remain the same over the next 30 years. This is likely not true, and as concerted efforts are made to switch to renewables, these capacities will likely increase. Similarly, the costs for renewables will like decrease as improvements to these technologies will allow for increased electricity production for a cheaper price. A major issue with renewables is that their levels may fluctuate with time. A major advantage with fossil fuels is their consistency and reliability: electricity production using fossil fuels remains unaffected by external factors such as the weather. As such, it is unlikely that we will every be able to move fully away from fossil fuels and onto renewables as they will likely still be needed if the energy demand from the grid is greater than what renewables can provide. "
   ]
  },
  {
   "cell_type": "code",
   "execution_count": null,
   "id": "80417a7d",
   "metadata": {},
   "outputs": [],
   "source": []
  }
 ],
 "metadata": {
  "kernelspec": {
   "display_name": "Julia 1.7.1",
   "language": "julia",
   "name": "julia-1.7"
  },
  "language_info": {
   "file_extension": ".jl",
   "mimetype": "application/julia",
   "name": "julia",
   "version": "1.7.1"
  }
 },
 "nbformat": 4,
 "nbformat_minor": 5
}
